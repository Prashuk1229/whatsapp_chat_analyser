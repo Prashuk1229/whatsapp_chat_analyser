{
 "cells": [
  {
   "cell_type": "code",
   "execution_count": 2,
   "id": "91f0b1d8",
   "metadata": {},
   "outputs": [],
   "source": [
    "import pandas as pd\n",
    "import re"
   ]
  },
  {
   "cell_type": "code",
   "execution_count": 70,
   "id": "a6a1813e",
   "metadata": {},
   "outputs": [],
   "source": [
    "f = open('WhatsApp Chat with Ravi Dasai.txt', 'r', encoding = 'utf-8')"
   ]
  },
  {
   "cell_type": "code",
   "execution_count": 71,
   "id": "5a64cd7a",
   "metadata": {},
   "outputs": [],
   "source": [
    "data = f.read()"
   ]
  },
  {
   "cell_type": "code",
   "execution_count": 72,
   "id": "f0e4e054",
   "metadata": {
    "scrolled": true
   },
   "outputs": [
    {
     "name": "stdout",
     "output_type": "stream",
     "text": [
      "<class 'str'>\n"
     ]
    }
   ],
   "source": [
    "print(type(data))"
   ]
  },
  {
   "cell_type": "code",
   "execution_count": 73,
   "id": "18fa4e54",
   "metadata": {},
   "outputs": [],
   "source": [
    "pattern = r\"\\d{2}\\/\\d{2}\\/\\d{4},\\s\\d{2}:\\d{2}\\s-\\s\""
   ]
  },
  {
   "cell_type": "code",
   "execution_count": 74,
   "id": "d5a78d2a",
   "metadata": {},
   "outputs": [
    {
     "data": {
      "text/plain": [
       "['Samarth: Ooy bhai\\n', 'Ravi Dasai: Bol\\n', 'Samarth: Aayi gayo phone\\n']"
      ]
     },
     "execution_count": 74,
     "metadata": {},
     "output_type": "execute_result"
    }
   ],
   "source": [
    "messages = re.split(pattern, data)[2:]\n",
    "messages[0 : 3]"
   ]
  },
  {
   "cell_type": "code",
   "execution_count": 75,
   "id": "6c33d9fa",
   "metadata": {},
   "outputs": [
    {
     "data": {
      "text/plain": [
       "['07/10/2021, 13:42 - ',\n",
       " '07/10/2021, 13:42 - ',\n",
       " '07/10/2021, 13:42 - ',\n",
       " '07/10/2021, 13:43 - ',\n",
       " '07/10/2021, 13:43 - ']"
      ]
     },
     "execution_count": 75,
     "metadata": {},
     "output_type": "execute_result"
    }
   ],
   "source": [
    "dates = re.findall(pattern, data)[1:]\n",
    "dates[0 : 5]"
   ]
  },
  {
   "cell_type": "code",
   "execution_count": 76,
   "id": "a54ab82d",
   "metadata": {},
   "outputs": [
    {
     "data": {
      "text/html": [
       "<div>\n",
       "<style scoped>\n",
       "    .dataframe tbody tr th:only-of-type {\n",
       "        vertical-align: middle;\n",
       "    }\n",
       "\n",
       "    .dataframe tbody tr th {\n",
       "        vertical-align: top;\n",
       "    }\n",
       "\n",
       "    .dataframe thead th {\n",
       "        text-align: right;\n",
       "    }\n",
       "</style>\n",
       "<table border=\"1\" class=\"dataframe\">\n",
       "  <thead>\n",
       "    <tr style=\"text-align: right;\">\n",
       "      <th></th>\n",
       "      <th>Date &amp; time</th>\n",
       "      <th>message</th>\n",
       "    </tr>\n",
       "  </thead>\n",
       "  <tbody>\n",
       "    <tr>\n",
       "      <th>0</th>\n",
       "      <td>07/10/2021, 13:42 -</td>\n",
       "      <td>Samarth: Ooy bhai\\n</td>\n",
       "    </tr>\n",
       "    <tr>\n",
       "      <th>1</th>\n",
       "      <td>07/10/2021, 13:42 -</td>\n",
       "      <td>Ravi Dasai: Bol\\n</td>\n",
       "    </tr>\n",
       "    <tr>\n",
       "      <th>2</th>\n",
       "      <td>07/10/2021, 13:42 -</td>\n",
       "      <td>Samarth: Aayi gayo phone\\n</td>\n",
       "    </tr>\n",
       "    <tr>\n",
       "      <th>3</th>\n",
       "      <td>07/10/2021, 13:43 -</td>\n",
       "      <td>Ravi Dasai: Photo moklje\\n</td>\n",
       "    </tr>\n",
       "    <tr>\n",
       "      <th>4</th>\n",
       "      <td>07/10/2021, 13:43 -</td>\n",
       "      <td>Samarth: 🥳🥳\\n</td>\n",
       "    </tr>\n",
       "  </tbody>\n",
       "</table>\n",
       "</div>"
      ],
      "text/plain": [
       "            Date & time                     message\n",
       "0  07/10/2021, 13:42 -          Samarth: Ooy bhai\\n\n",
       "1  07/10/2021, 13:42 -            Ravi Dasai: Bol\\n\n",
       "2  07/10/2021, 13:42 -   Samarth: Aayi gayo phone\\n\n",
       "3  07/10/2021, 13:43 -   Ravi Dasai: Photo moklje\\n\n",
       "4  07/10/2021, 13:43 -                Samarth: 🥳🥳\\n"
      ]
     },
     "execution_count": 76,
     "metadata": {},
     "output_type": "execute_result"
    }
   ],
   "source": [
    "df = pd.DataFrame({'Date & time' : dates, 'message' : messages})\n",
    "df.head()"
   ]
  },
  {
   "cell_type": "code",
   "execution_count": 77,
   "id": "c789f417",
   "metadata": {},
   "outputs": [
    {
     "data": {
      "text/plain": [
       "(12055, 2)"
      ]
     },
     "execution_count": 77,
     "metadata": {},
     "output_type": "execute_result"
    }
   ],
   "source": [
    "df.shape "
   ]
  },
  {
   "cell_type": "code",
   "execution_count": 78,
   "id": "37453e56",
   "metadata": {},
   "outputs": [],
   "source": [
    "df['Date & time'] = pd.to_datetime(df['Date & time'], format = '%d/%m/%Y, %H:%M - ')"
   ]
  },
  {
   "cell_type": "code",
   "execution_count": 79,
   "id": "2adc7f57",
   "metadata": {},
   "outputs": [
    {
     "data": {
      "text/html": [
       "<div>\n",
       "<style scoped>\n",
       "    .dataframe tbody tr th:only-of-type {\n",
       "        vertical-align: middle;\n",
       "    }\n",
       "\n",
       "    .dataframe tbody tr th {\n",
       "        vertical-align: top;\n",
       "    }\n",
       "\n",
       "    .dataframe thead th {\n",
       "        text-align: right;\n",
       "    }\n",
       "</style>\n",
       "<table border=\"1\" class=\"dataframe\">\n",
       "  <thead>\n",
       "    <tr style=\"text-align: right;\">\n",
       "      <th></th>\n",
       "      <th>Date &amp; time</th>\n",
       "      <th>message</th>\n",
       "    </tr>\n",
       "  </thead>\n",
       "  <tbody>\n",
       "    <tr>\n",
       "      <th>113</th>\n",
       "      <td>2021-10-07 15:36:00</td>\n",
       "      <td>Ravi Dasai: Ha jo he'd tu\\n</td>\n",
       "    </tr>\n",
       "    <tr>\n",
       "      <th>7831</th>\n",
       "      <td>2022-02-04 17:00:00</td>\n",
       "      <td>Ravi Dasai: Laptop ma apdu modhu detect na tha...</td>\n",
       "    </tr>\n",
       "    <tr>\n",
       "      <th>8213</th>\n",
       "      <td>2022-02-25 19:41:00</td>\n",
       "      <td>Ravi Dasai: 🥺\\n</td>\n",
       "    </tr>\n",
       "    <tr>\n",
       "      <th>3554</th>\n",
       "      <td>2021-10-30 15:07:00</td>\n",
       "      <td>Ravi Dasai: Me angry shiva search maryu che\\n</td>\n",
       "    </tr>\n",
       "    <tr>\n",
       "      <th>11414</th>\n",
       "      <td>2023-03-12 11:23:00</td>\n",
       "      <td>Ravi Dasai: Avu to end m hoy\\n</td>\n",
       "    </tr>\n",
       "  </tbody>\n",
       "</table>\n",
       "</div>"
      ],
      "text/plain": [
       "              Date & time                                            message\n",
       "113   2021-10-07 15:36:00                        Ravi Dasai: Ha jo he'd tu\\n\n",
       "7831  2022-02-04 17:00:00  Ravi Dasai: Laptop ma apdu modhu detect na tha...\n",
       "8213  2022-02-25 19:41:00                                    Ravi Dasai: 🥺\\n\n",
       "3554  2021-10-30 15:07:00      Ravi Dasai: Me angry shiva search maryu che\\n\n",
       "11414 2023-03-12 11:23:00                     Ravi Dasai: Avu to end m hoy\\n"
      ]
     },
     "execution_count": 79,
     "metadata": {},
     "output_type": "execute_result"
    }
   ],
   "source": [
    "df.sample(5)"
   ]
  },
  {
   "cell_type": "code",
   "execution_count": 80,
   "id": "e6532dcd",
   "metadata": {},
   "outputs": [
    {
     "data": {
      "text/html": [
       "<div>\n",
       "<style scoped>\n",
       "    .dataframe tbody tr th:only-of-type {\n",
       "        vertical-align: middle;\n",
       "    }\n",
       "\n",
       "    .dataframe tbody tr th {\n",
       "        vertical-align: top;\n",
       "    }\n",
       "\n",
       "    .dataframe thead th {\n",
       "        text-align: right;\n",
       "    }\n",
       "</style>\n",
       "<table border=\"1\" class=\"dataframe\">\n",
       "  <thead>\n",
       "    <tr style=\"text-align: right;\">\n",
       "      <th></th>\n",
       "      <th>Date &amp; time</th>\n",
       "      <th>message</th>\n",
       "      <th>users</th>\n",
       "      <th>msg</th>\n",
       "    </tr>\n",
       "  </thead>\n",
       "  <tbody>\n",
       "    <tr>\n",
       "      <th>0</th>\n",
       "      <td>2021-10-07 13:42:00</td>\n",
       "      <td>Samarth: Ooy bhai\\n</td>\n",
       "      <td>Samarth</td>\n",
       "      <td>Ooy bhai\\n</td>\n",
       "    </tr>\n",
       "    <tr>\n",
       "      <th>1</th>\n",
       "      <td>2021-10-07 13:42:00</td>\n",
       "      <td>Ravi Dasai: Bol\\n</td>\n",
       "      <td>Ravi Dasai</td>\n",
       "      <td>Bol\\n</td>\n",
       "    </tr>\n",
       "    <tr>\n",
       "      <th>2</th>\n",
       "      <td>2021-10-07 13:42:00</td>\n",
       "      <td>Samarth: Aayi gayo phone\\n</td>\n",
       "      <td>Samarth</td>\n",
       "      <td>Aayi gayo phone\\n</td>\n",
       "    </tr>\n",
       "    <tr>\n",
       "      <th>3</th>\n",
       "      <td>2021-10-07 13:43:00</td>\n",
       "      <td>Ravi Dasai: Photo moklje\\n</td>\n",
       "      <td>Ravi Dasai</td>\n",
       "      <td>Photo moklje\\n</td>\n",
       "    </tr>\n",
       "    <tr>\n",
       "      <th>4</th>\n",
       "      <td>2021-10-07 13:43:00</td>\n",
       "      <td>Samarth: 🥳🥳\\n</td>\n",
       "      <td>Samarth</td>\n",
       "      <td>🥳🥳\\n</td>\n",
       "    </tr>\n",
       "  </tbody>\n",
       "</table>\n",
       "</div>"
      ],
      "text/plain": [
       "          Date & time                     message       users  \\\n",
       "0 2021-10-07 13:42:00         Samarth: Ooy bhai\\n     Samarth   \n",
       "1 2021-10-07 13:42:00           Ravi Dasai: Bol\\n  Ravi Dasai   \n",
       "2 2021-10-07 13:42:00  Samarth: Aayi gayo phone\\n     Samarth   \n",
       "3 2021-10-07 13:43:00  Ravi Dasai: Photo moklje\\n  Ravi Dasai   \n",
       "4 2021-10-07 13:43:00               Samarth: 🥳🥳\\n     Samarth   \n",
       "\n",
       "                 msg  \n",
       "0         Ooy bhai\\n  \n",
       "1              Bol\\n  \n",
       "2  Aayi gayo phone\\n  \n",
       "3     Photo moklje\\n  \n",
       "4               🥳🥳\\n  "
      ]
     },
     "execution_count": 80,
     "metadata": {},
     "output_type": "execute_result"
    }
   ],
   "source": [
    "user = list()\n",
    "msg = list()\n",
    "\n",
    "for message in df['message'] :\n",
    "    text = re.split(r'([\\w\\W]+?):\\s', message)\n",
    "    if text[1:] :\n",
    "        user.append(text[1])\n",
    "        msg.append(text[2])\n",
    "    else :\n",
    "        user.append('group_notification')\n",
    "        msg.append(text[0])\n",
    "\n",
    "df['users'] = user\n",
    "df['msg'] = msg\n",
    "df.head()"
   ]
  },
  {
   "cell_type": "code",
   "execution_count": 81,
   "id": "16dcb0d4",
   "metadata": {},
   "outputs": [],
   "source": [
    "df['year'] = df['Date & time'].dt.year\n",
    "df['month'] = df['Date & time'].dt.month_name()\n",
    "df['day'] = df['Date & time'].dt.day\n",
    "df['hour'] = df['Date & time'].dt.hour\n",
    "df['minute'] = df['Date & time'].dt.minute"
   ]
  },
  {
   "cell_type": "code",
   "execution_count": 82,
   "id": "e95f1c76",
   "metadata": {},
   "outputs": [
    {
     "data": {
      "text/html": [
       "<div>\n",
       "<style scoped>\n",
       "    .dataframe tbody tr th:only-of-type {\n",
       "        vertical-align: middle;\n",
       "    }\n",
       "\n",
       "    .dataframe tbody tr th {\n",
       "        vertical-align: top;\n",
       "    }\n",
       "\n",
       "    .dataframe thead th {\n",
       "        text-align: right;\n",
       "    }\n",
       "</style>\n",
       "<table border=\"1\" class=\"dataframe\">\n",
       "  <thead>\n",
       "    <tr style=\"text-align: right;\">\n",
       "      <th></th>\n",
       "      <th>Date &amp; time</th>\n",
       "      <th>message</th>\n",
       "      <th>users</th>\n",
       "      <th>msg</th>\n",
       "      <th>year</th>\n",
       "      <th>month</th>\n",
       "      <th>day</th>\n",
       "      <th>hour</th>\n",
       "      <th>minute</th>\n",
       "    </tr>\n",
       "  </thead>\n",
       "  <tbody>\n",
       "    <tr>\n",
       "      <th>0</th>\n",
       "      <td>2021-10-07 13:42:00</td>\n",
       "      <td>Samarth: Ooy bhai\\n</td>\n",
       "      <td>Samarth</td>\n",
       "      <td>Ooy bhai\\n</td>\n",
       "      <td>2021</td>\n",
       "      <td>October</td>\n",
       "      <td>7</td>\n",
       "      <td>13</td>\n",
       "      <td>42</td>\n",
       "    </tr>\n",
       "    <tr>\n",
       "      <th>1</th>\n",
       "      <td>2021-10-07 13:42:00</td>\n",
       "      <td>Ravi Dasai: Bol\\n</td>\n",
       "      <td>Ravi Dasai</td>\n",
       "      <td>Bol\\n</td>\n",
       "      <td>2021</td>\n",
       "      <td>October</td>\n",
       "      <td>7</td>\n",
       "      <td>13</td>\n",
       "      <td>42</td>\n",
       "    </tr>\n",
       "    <tr>\n",
       "      <th>2</th>\n",
       "      <td>2021-10-07 13:42:00</td>\n",
       "      <td>Samarth: Aayi gayo phone\\n</td>\n",
       "      <td>Samarth</td>\n",
       "      <td>Aayi gayo phone\\n</td>\n",
       "      <td>2021</td>\n",
       "      <td>October</td>\n",
       "      <td>7</td>\n",
       "      <td>13</td>\n",
       "      <td>42</td>\n",
       "    </tr>\n",
       "    <tr>\n",
       "      <th>3</th>\n",
       "      <td>2021-10-07 13:43:00</td>\n",
       "      <td>Ravi Dasai: Photo moklje\\n</td>\n",
       "      <td>Ravi Dasai</td>\n",
       "      <td>Photo moklje\\n</td>\n",
       "      <td>2021</td>\n",
       "      <td>October</td>\n",
       "      <td>7</td>\n",
       "      <td>13</td>\n",
       "      <td>43</td>\n",
       "    </tr>\n",
       "    <tr>\n",
       "      <th>4</th>\n",
       "      <td>2021-10-07 13:43:00</td>\n",
       "      <td>Samarth: 🥳🥳\\n</td>\n",
       "      <td>Samarth</td>\n",
       "      <td>🥳🥳\\n</td>\n",
       "      <td>2021</td>\n",
       "      <td>October</td>\n",
       "      <td>7</td>\n",
       "      <td>13</td>\n",
       "      <td>43</td>\n",
       "    </tr>\n",
       "  </tbody>\n",
       "</table>\n",
       "</div>"
      ],
      "text/plain": [
       "          Date & time                     message       users  \\\n",
       "0 2021-10-07 13:42:00         Samarth: Ooy bhai\\n     Samarth   \n",
       "1 2021-10-07 13:42:00           Ravi Dasai: Bol\\n  Ravi Dasai   \n",
       "2 2021-10-07 13:42:00  Samarth: Aayi gayo phone\\n     Samarth   \n",
       "3 2021-10-07 13:43:00  Ravi Dasai: Photo moklje\\n  Ravi Dasai   \n",
       "4 2021-10-07 13:43:00               Samarth: 🥳🥳\\n     Samarth   \n",
       "\n",
       "                 msg  year    month  day  hour  minute  \n",
       "0         Ooy bhai\\n  2021  October    7    13      42  \n",
       "1              Bol\\n  2021  October    7    13      42  \n",
       "2  Aayi gayo phone\\n  2021  October    7    13      42  \n",
       "3     Photo moklje\\n  2021  October    7    13      43  \n",
       "4               🥳🥳\\n  2021  October    7    13      43  "
      ]
     },
     "execution_count": 82,
     "metadata": {},
     "output_type": "execute_result"
    }
   ],
   "source": [
    "df.head()"
   ]
  },
  {
   "cell_type": "code",
   "execution_count": 83,
   "id": "4b27dbd6",
   "metadata": {},
   "outputs": [],
   "source": [
    "df = df.drop(columns = ['Date & time', 'message'])"
   ]
  },
  {
   "cell_type": "code",
   "execution_count": 98,
   "id": "ac4fc404",
   "metadata": {},
   "outputs": [
    {
     "data": {
      "text/html": [
       "<div>\n",
       "<style scoped>\n",
       "    .dataframe tbody tr th:only-of-type {\n",
       "        vertical-align: middle;\n",
       "    }\n",
       "\n",
       "    .dataframe tbody tr th {\n",
       "        vertical-align: top;\n",
       "    }\n",
       "\n",
       "    .dataframe thead th {\n",
       "        text-align: right;\n",
       "    }\n",
       "</style>\n",
       "<table border=\"1\" class=\"dataframe\">\n",
       "  <thead>\n",
       "    <tr style=\"text-align: right;\">\n",
       "      <th></th>\n",
       "      <th>users</th>\n",
       "      <th>msg</th>\n",
       "      <th>year</th>\n",
       "      <th>month</th>\n",
       "      <th>day</th>\n",
       "      <th>hour</th>\n",
       "      <th>minute</th>\n",
       "    </tr>\n",
       "  </thead>\n",
       "  <tbody>\n",
       "    <tr>\n",
       "      <th>12050</th>\n",
       "      <td>Samarth</td>\n",
       "      <td>&lt;Media omitted&gt;\\n</td>\n",
       "      <td>2023</td>\n",
       "      <td>June</td>\n",
       "      <td>6</td>\n",
       "      <td>12</td>\n",
       "      <td>21</td>\n",
       "    </tr>\n",
       "    <tr>\n",
       "      <th>12051</th>\n",
       "      <td>Samarth</td>\n",
       "      <td>&lt;Media omitted&gt;\\n</td>\n",
       "      <td>2023</td>\n",
       "      <td>June</td>\n",
       "      <td>6</td>\n",
       "      <td>12</td>\n",
       "      <td>22</td>\n",
       "    </tr>\n",
       "    <tr>\n",
       "      <th>12052</th>\n",
       "      <td>Ravi Dasai</td>\n",
       "      <td>&lt;Media omitted&gt;\\n</td>\n",
       "      <td>2023</td>\n",
       "      <td>June</td>\n",
       "      <td>6</td>\n",
       "      <td>12</td>\n",
       "      <td>23</td>\n",
       "    </tr>\n",
       "    <tr>\n",
       "      <th>12053</th>\n",
       "      <td>Ravi Dasai</td>\n",
       "      <td>https://www.instagram.com/reel/CslX2PHtv97/?ig...</td>\n",
       "      <td>2023</td>\n",
       "      <td>June</td>\n",
       "      <td>8</td>\n",
       "      <td>0</td>\n",
       "      <td>50</td>\n",
       "    </tr>\n",
       "    <tr>\n",
       "      <th>12054</th>\n",
       "      <td>Ravi Dasai</td>\n",
       "      <td>https://www.instagram.com/reel/CtWNZGAgrzt/?ig...</td>\n",
       "      <td>2023</td>\n",
       "      <td>June</td>\n",
       "      <td>16</td>\n",
       "      <td>9</td>\n",
       "      <td>58</td>\n",
       "    </tr>\n",
       "  </tbody>\n",
       "</table>\n",
       "</div>"
      ],
      "text/plain": [
       "            users                                                msg  year  \\\n",
       "12050     Samarth                                  <Media omitted>\\n  2023   \n",
       "12051     Samarth                                  <Media omitted>\\n  2023   \n",
       "12052  Ravi Dasai                                  <Media omitted>\\n  2023   \n",
       "12053  Ravi Dasai  https://www.instagram.com/reel/CslX2PHtv97/?ig...  2023   \n",
       "12054  Ravi Dasai  https://www.instagram.com/reel/CtWNZGAgrzt/?ig...  2023   \n",
       "\n",
       "      month  day  hour  minute  \n",
       "12050  June    6    12      21  \n",
       "12051  June    6    12      22  \n",
       "12052  June    6    12      23  \n",
       "12053  June    8     0      50  \n",
       "12054  June   16     9      58  "
      ]
     },
     "execution_count": 98,
     "metadata": {},
     "output_type": "execute_result"
    }
   ],
   "source": [
    "df.tail()"
   ]
  },
  {
   "cell_type": "code",
   "execution_count": 86,
   "id": "c95491f8",
   "metadata": {},
   "outputs": [
    {
     "data": {
      "text/plain": [
       "['Samarth', 'Ravi Dasai']"
      ]
     },
     "execution_count": 86,
     "metadata": {},
     "output_type": "execute_result"
    }
   ],
   "source": [
    "df['users'].unique().tolist()"
   ]
  },
  {
   "cell_type": "code",
   "execution_count": 96,
   "id": "c38f6801",
   "metadata": {},
   "outputs": [],
   "source": [
    "df1 = df[df['users'] == 'Samarth']"
   ]
  },
  {
   "cell_type": "code",
   "execution_count": 108,
   "id": "5077d2ed",
   "metadata": {},
   "outputs": [
    {
     "data": {
      "text/plain": [
       "array(['Ooy bhai\\n', 'Bol\\n', 'Aayi gayo phone\\n', ...,\n",
       "       'https://www.instagram.com/reel/Cs-pHJgNuen/?igshid=NzJjY2FjNWJiZg==\\n',\n",
       "       'https://www.instagram.com/reel/CslX2PHtv97/?igshid=NzJjY2FjNWJiZg==\\n',\n",
       "       'https://www.instagram.com/reel/CtWNZGAgrzt/?igshid=ZmUwZmJhYzgwMQ==\\n'],\n",
       "      dtype=object)"
      ]
     },
     "execution_count": 108,
     "metadata": {},
     "output_type": "execute_result"
    }
   ],
   "source": [
    "df[df['msg'] != '<Media omitted>\\n']['msg'].values"
   ]
  },
  {
   "cell_type": "code",
   "execution_count": 109,
   "id": "a595527d",
   "metadata": {},
   "outputs": [
    {
     "name": "stdout",
     "output_type": "stream",
     "text": [
      "Collecting urlextract\n",
      "  Using cached urlextract-1.8.0-py3-none-any.whl (21 kB)\n",
      "Collecting uritools\n",
      "  Using cached uritools-4.0.1-py3-none-any.whl (10 kB)\n",
      "Requirement already satisfied: idna in c:\\users\\zephyrus\\anaconda3\\lib\\site-packages (from urlextract) (3.4)\n",
      "Requirement already satisfied: platformdirs in c:\\users\\zephyrus\\anaconda3\\lib\\site-packages (from urlextract) (2.5.2)\n",
      "Requirement already satisfied: filelock in c:\\users\\zephyrus\\anaconda3\\lib\\site-packages (from urlextract) (3.9.0)\n",
      "Installing collected packages: uritools, urlextract\n",
      "Successfully installed uritools-4.0.1 urlextract-1.8.0\n"
     ]
    }
   ],
   "source": [
    "!pip install urlextract"
   ]
  },
  {
   "cell_type": "code",
   "execution_count": 112,
   "id": "d167501e",
   "metadata": {},
   "outputs": [],
   "source": [
    "from urlextract import URLExtract\n",
    "extractor = URLExtract()\n",
    "if not extractor.has_urls('samarth https://www.instagram.com/reel/CtWNZGAgrzt/?igshid=ZmUwZmJhYzgwMQ==\\n'):\n",
    "    print('hii')"
   ]
  },
  {
   "cell_type": "code",
   "execution_count": 114,
   "id": "e02e41f8",
   "metadata": {},
   "outputs": [
    {
     "data": {
      "text/plain": [
       "3"
      ]
     },
     "execution_count": 114,
     "metadata": {},
     "output_type": "execute_result"
    }
   ],
   "source": [
    "len('Aayi gayo phone\\n'.split())"
   ]
  },
  {
   "cell_type": "code",
   "execution_count": 125,
   "id": "f1aacdc0",
   "metadata": {},
   "outputs": [
    {
     "data": {
      "text/plain": [
       "553"
      ]
     },
     "execution_count": 125,
     "metadata": {},
     "output_type": "execute_result"
    }
   ],
   "source": [
    "df1[df1['msg'] == '<Media omitted>\\n'].shape[0]"
   ]
  },
  {
   "cell_type": "code",
   "execution_count": 128,
   "id": "fb654ed2",
   "metadata": {},
   "outputs": [
    {
     "data": {
      "text/plain": [
       "84"
      ]
     },
     "execution_count": 128,
     "metadata": {},
     "output_type": "execute_result"
    }
   ],
   "source": [
    "num_of_urls = 0\n",
    "for i in df['msg'].values:\n",
    "    if extractor.has_urls(i):\n",
    "        num_of_urls = num_of_urls + 1\n",
    "        \n",
    "num_of_urls"
   ]
  },
  {
   "cell_type": "code",
   "execution_count": 151,
   "id": "fe6c8ad7",
   "metadata": {},
   "outputs": [
    {
     "data": {
      "text/html": [
       "<div>\n",
       "<style scoped>\n",
       "    .dataframe tbody tr th:only-of-type {\n",
       "        vertical-align: middle;\n",
       "    }\n",
       "\n",
       "    .dataframe tbody tr th {\n",
       "        vertical-align: top;\n",
       "    }\n",
       "\n",
       "    .dataframe thead th {\n",
       "        text-align: right;\n",
       "    }\n",
       "</style>\n",
       "<table border=\"1\" class=\"dataframe\">\n",
       "  <thead>\n",
       "    <tr style=\"text-align: right;\">\n",
       "      <th></th>\n",
       "      <th>Messages</th>\n",
       "    </tr>\n",
       "  </thead>\n",
       "  <tbody>\n",
       "    <tr>\n",
       "      <th>Ravi Dasai</th>\n",
       "      <td>7078</td>\n",
       "    </tr>\n",
       "    <tr>\n",
       "      <th>Samarth</th>\n",
       "      <td>4977</td>\n",
       "    </tr>\n",
       "  </tbody>\n",
       "</table>\n",
       "</div>"
      ],
      "text/plain": [
       "            Messages\n",
       "Ravi Dasai      7078\n",
       "Samarth         4977"
      ]
     },
     "execution_count": 151,
     "metadata": {},
     "output_type": "execute_result"
    }
   ],
   "source": [
    "df2 = pd.DataFrame(df['users'].value_counts())\n",
    "df2.columns = ['Messages']\n",
    "df2"
   ]
  },
  {
   "cell_type": "code",
   "execution_count": 156,
   "id": "371451fd",
   "metadata": {},
   "outputs": [
    {
     "data": {
      "text/html": [
       "<div>\n",
       "<style scoped>\n",
       "    .dataframe tbody tr th:only-of-type {\n",
       "        vertical-align: middle;\n",
       "    }\n",
       "\n",
       "    .dataframe tbody tr th {\n",
       "        vertical-align: top;\n",
       "    }\n",
       "\n",
       "    .dataframe thead th {\n",
       "        text-align: right;\n",
       "    }\n",
       "</style>\n",
       "<table border=\"1\" class=\"dataframe\">\n",
       "  <thead>\n",
       "    <tr style=\"text-align: right;\">\n",
       "      <th></th>\n",
       "      <th>users</th>\n",
       "      <th>msg</th>\n",
       "      <th>year</th>\n",
       "      <th>month</th>\n",
       "      <th>day</th>\n",
       "      <th>hour</th>\n",
       "      <th>minute</th>\n",
       "    </tr>\n",
       "  </thead>\n",
       "  <tbody>\n",
       "    <tr>\n",
       "      <th>0</th>\n",
       "      <td>Samarth</td>\n",
       "      <td>Ooy bhai\\n</td>\n",
       "      <td>2021</td>\n",
       "      <td>October</td>\n",
       "      <td>7</td>\n",
       "      <td>13</td>\n",
       "      <td>42</td>\n",
       "    </tr>\n",
       "    <tr>\n",
       "      <th>1</th>\n",
       "      <td>Ravi Dasai</td>\n",
       "      <td>Bol\\n</td>\n",
       "      <td>2021</td>\n",
       "      <td>October</td>\n",
       "      <td>7</td>\n",
       "      <td>13</td>\n",
       "      <td>42</td>\n",
       "    </tr>\n",
       "    <tr>\n",
       "      <th>2</th>\n",
       "      <td>Samarth</td>\n",
       "      <td>Aayi gayo phone\\n</td>\n",
       "      <td>2021</td>\n",
       "      <td>October</td>\n",
       "      <td>7</td>\n",
       "      <td>13</td>\n",
       "      <td>42</td>\n",
       "    </tr>\n",
       "    <tr>\n",
       "      <th>3</th>\n",
       "      <td>Ravi Dasai</td>\n",
       "      <td>Photo moklje\\n</td>\n",
       "      <td>2021</td>\n",
       "      <td>October</td>\n",
       "      <td>7</td>\n",
       "      <td>13</td>\n",
       "      <td>43</td>\n",
       "    </tr>\n",
       "    <tr>\n",
       "      <th>4</th>\n",
       "      <td>Samarth</td>\n",
       "      <td>🥳🥳\\n</td>\n",
       "      <td>2021</td>\n",
       "      <td>October</td>\n",
       "      <td>7</td>\n",
       "      <td>13</td>\n",
       "      <td>43</td>\n",
       "    </tr>\n",
       "    <tr>\n",
       "      <th>...</th>\n",
       "      <td>...</td>\n",
       "      <td>...</td>\n",
       "      <td>...</td>\n",
       "      <td>...</td>\n",
       "      <td>...</td>\n",
       "      <td>...</td>\n",
       "      <td>...</td>\n",
       "    </tr>\n",
       "    <tr>\n",
       "      <th>12046</th>\n",
       "      <td>Samarth</td>\n",
       "      <td>🥲🥲\\n</td>\n",
       "      <td>2023</td>\n",
       "      <td>June</td>\n",
       "      <td>3</td>\n",
       "      <td>20</td>\n",
       "      <td>48</td>\n",
       "    </tr>\n",
       "    <tr>\n",
       "      <th>12047</th>\n",
       "      <td>Ravi Dasai</td>\n",
       "      <td>0 communication skill\\n</td>\n",
       "      <td>2023</td>\n",
       "      <td>June</td>\n",
       "      <td>3</td>\n",
       "      <td>20</td>\n",
       "      <td>48</td>\n",
       "    </tr>\n",
       "    <tr>\n",
       "      <th>12049</th>\n",
       "      <td>Ravi Dasai</td>\n",
       "      <td>https://www.instagram.com/reel/Cs-pHJgNuen/?ig...</td>\n",
       "      <td>2023</td>\n",
       "      <td>June</td>\n",
       "      <td>6</td>\n",
       "      <td>11</td>\n",
       "      <td>55</td>\n",
       "    </tr>\n",
       "    <tr>\n",
       "      <th>12053</th>\n",
       "      <td>Ravi Dasai</td>\n",
       "      <td>https://www.instagram.com/reel/CslX2PHtv97/?ig...</td>\n",
       "      <td>2023</td>\n",
       "      <td>June</td>\n",
       "      <td>8</td>\n",
       "      <td>0</td>\n",
       "      <td>50</td>\n",
       "    </tr>\n",
       "    <tr>\n",
       "      <th>12054</th>\n",
       "      <td>Ravi Dasai</td>\n",
       "      <td>https://www.instagram.com/reel/CtWNZGAgrzt/?ig...</td>\n",
       "      <td>2023</td>\n",
       "      <td>June</td>\n",
       "      <td>16</td>\n",
       "      <td>9</td>\n",
       "      <td>58</td>\n",
       "    </tr>\n",
       "  </tbody>\n",
       "</table>\n",
       "<p>11017 rows × 7 columns</p>\n",
       "</div>"
      ],
      "text/plain": [
       "            users                                                msg  year  \\\n",
       "0         Samarth                                         Ooy bhai\\n  2021   \n",
       "1      Ravi Dasai                                              Bol\\n  2021   \n",
       "2         Samarth                                  Aayi gayo phone\\n  2021   \n",
       "3      Ravi Dasai                                     Photo moklje\\n  2021   \n",
       "4         Samarth                                               🥳🥳\\n  2021   \n",
       "...           ...                                                ...   ...   \n",
       "12046     Samarth                                               🥲🥲\\n  2023   \n",
       "12047  Ravi Dasai                            0 communication skill\\n  2023   \n",
       "12049  Ravi Dasai  https://www.instagram.com/reel/Cs-pHJgNuen/?ig...  2023   \n",
       "12053  Ravi Dasai  https://www.instagram.com/reel/CslX2PHtv97/?ig...  2023   \n",
       "12054  Ravi Dasai  https://www.instagram.com/reel/CtWNZGAgrzt/?ig...  2023   \n",
       "\n",
       "         month  day  hour  minute  \n",
       "0      October    7    13      42  \n",
       "1      October    7    13      42  \n",
       "2      October    7    13      42  \n",
       "3      October    7    13      43  \n",
       "4      October    7    13      43  \n",
       "...        ...  ...   ...     ...  \n",
       "12046     June    3    20      48  \n",
       "12047     June    3    20      48  \n",
       "12049     June    6    11      55  \n",
       "12053     June    8     0      50  \n",
       "12054     June   16     9      58  \n",
       "\n",
       "[11017 rows x 7 columns]"
      ]
     },
     "execution_count": 156,
     "metadata": {},
     "output_type": "execute_result"
    }
   ],
   "source": [
    "cln_df = df[df['msg'] != '<Media omitted>\\n']\n",
    "cln_df"
   ]
  },
  {
   "cell_type": "code",
   "execution_count": 182,
   "id": "1fd76e50",
   "metadata": {},
   "outputs": [],
   "source": [
    "sw = open('stop_hinglish.txt', encoding = 'utf-8').read()\n",
    "sw = sw.replace('\\n', ' ')"
   ]
  },
  {
   "cell_type": "code",
   "execution_count": 183,
   "id": "04b796f5",
   "metadata": {},
   "outputs": [],
   "source": [
    "s1 = ''\n",
    "for i in cln_df['msg'].values:\n",
    "    # Removing URL\n",
    "    if not extractor.has_urls(i):\n",
    "        for word in i.split():\n",
    "            if word not in sw:\n",
    "                s1 = s1 + ' ' + word.split(sep = '\\n')[0]"
   ]
  },
  {
   "cell_type": "code",
   "execution_count": 175,
   "id": "4c631d8c",
   "metadata": {},
   "outputs": [
    {
     "data": {
      "text/plain": [
       "['🥲', '']"
      ]
     },
     "execution_count": 175,
     "metadata": {},
     "output_type": "execute_result"
    }
   ],
   "source": [
    "'🥲\\n'.split(sep = '\\n')"
   ]
  },
  {
   "cell_type": "code",
   "execution_count": 201,
   "id": "dbae64b4",
   "metadata": {},
   "outputs": [
    {
     "data": {
      "text/html": [
       "<div>\n",
       "<style scoped>\n",
       "    .dataframe tbody tr th:only-of-type {\n",
       "        vertical-align: middle;\n",
       "    }\n",
       "\n",
       "    .dataframe tbody tr th {\n",
       "        vertical-align: top;\n",
       "    }\n",
       "\n",
       "    .dataframe thead th {\n",
       "        text-align: right;\n",
       "    }\n",
       "</style>\n",
       "<table border=\"1\" class=\"dataframe\">\n",
       "  <thead>\n",
       "    <tr style=\"text-align: right;\">\n",
       "      <th></th>\n",
       "      <th>0</th>\n",
       "      <th>1</th>\n",
       "    </tr>\n",
       "  </thead>\n",
       "  <tbody>\n",
       "    <tr>\n",
       "      <th>0</th>\n",
       "      <td>6e</td>\n",
       "      <td>899</td>\n",
       "    </tr>\n",
       "    <tr>\n",
       "      <th>1</th>\n",
       "      <td>Ha</td>\n",
       "      <td>749</td>\n",
       "    </tr>\n",
       "    <tr>\n",
       "      <th>2</th>\n",
       "      <td>lya</td>\n",
       "      <td>555</td>\n",
       "    </tr>\n",
       "    <tr>\n",
       "      <th>3</th>\n",
       "      <td>Alya</td>\n",
       "      <td>523</td>\n",
       "    </tr>\n",
       "    <tr>\n",
       "      <th>4</th>\n",
       "      <td>Lya</td>\n",
       "      <td>509</td>\n",
       "    </tr>\n",
       "    <tr>\n",
       "      <th>5</th>\n",
       "      <td>😂</td>\n",
       "      <td>328</td>\n",
       "    </tr>\n",
       "    <tr>\n",
       "      <th>6</th>\n",
       "      <td>😂😂</td>\n",
       "      <td>257</td>\n",
       "    </tr>\n",
       "    <tr>\n",
       "      <th>7</th>\n",
       "      <td>😆😆</td>\n",
       "      <td>249</td>\n",
       "    </tr>\n",
       "    <tr>\n",
       "      <th>8</th>\n",
       "      <td>To</td>\n",
       "      <td>215</td>\n",
       "    </tr>\n",
       "    <tr>\n",
       "      <th>9</th>\n",
       "      <td>Pan</td>\n",
       "      <td>195</td>\n",
       "    </tr>\n",
       "    <tr>\n",
       "      <th>10</th>\n",
       "      <td>khabar</td>\n",
       "      <td>194</td>\n",
       "    </tr>\n",
       "    <tr>\n",
       "      <th>11</th>\n",
       "      <td>nu</td>\n",
       "      <td>192</td>\n",
       "    </tr>\n",
       "    <tr>\n",
       "      <th>12</th>\n",
       "      <td>Na</td>\n",
       "      <td>160</td>\n",
       "    </tr>\n",
       "    <tr>\n",
       "      <th>13</th>\n",
       "      <td>Tu</td>\n",
       "      <td>137</td>\n",
       "    </tr>\n",
       "    <tr>\n",
       "      <th>14</th>\n",
       "      <td>badhu</td>\n",
       "      <td>129</td>\n",
       "    </tr>\n",
       "    <tr>\n",
       "      <th>15</th>\n",
       "      <td>badha</td>\n",
       "      <td>126</td>\n",
       "    </tr>\n",
       "    <tr>\n",
       "      <th>16</th>\n",
       "      <td>aave</td>\n",
       "      <td>123</td>\n",
       "    </tr>\n",
       "    <tr>\n",
       "      <th>17</th>\n",
       "      <td>🙂</td>\n",
       "      <td>121</td>\n",
       "    </tr>\n",
       "    <tr>\n",
       "      <th>18</th>\n",
       "      <td>male</td>\n",
       "      <td>119</td>\n",
       "    </tr>\n",
       "    <tr>\n",
       "      <th>19</th>\n",
       "      <td>Su</td>\n",
       "      <td>117</td>\n",
       "    </tr>\n",
       "    <tr>\n",
       "      <th>20</th>\n",
       "      <td>Mane</td>\n",
       "      <td>108</td>\n",
       "    </tr>\n",
       "    <tr>\n",
       "      <th>21</th>\n",
       "      <td>Te</td>\n",
       "      <td>107</td>\n",
       "    </tr>\n",
       "    <tr>\n",
       "      <th>22</th>\n",
       "      <td>iiit</td>\n",
       "      <td>101</td>\n",
       "    </tr>\n",
       "    <tr>\n",
       "      <th>23</th>\n",
       "      <td>gayu</td>\n",
       "      <td>99</td>\n",
       "    </tr>\n",
       "    <tr>\n",
       "      <th>24</th>\n",
       "      <td>Have</td>\n",
       "      <td>97</td>\n",
       "    </tr>\n",
       "  </tbody>\n",
       "</table>\n",
       "</div>"
      ],
      "text/plain": [
       "         0    1\n",
       "0       6e  899\n",
       "1       Ha  749\n",
       "2      lya  555\n",
       "3     Alya  523\n",
       "4      Lya  509\n",
       "5        😂  328\n",
       "6       😂😂  257\n",
       "7       😆😆  249\n",
       "8       To  215\n",
       "9      Pan  195\n",
       "10  khabar  194\n",
       "11      nu  192\n",
       "12      Na  160\n",
       "13      Tu  137\n",
       "14   badhu  129\n",
       "15   badha  126\n",
       "16    aave  123\n",
       "17       🙂  121\n",
       "18    male  119\n",
       "19      Su  117\n",
       "20    Mane  108\n",
       "21      Te  107\n",
       "22    iiit  101\n",
       "23    gayu   99\n",
       "24    Have   97"
      ]
     },
     "execution_count": 201,
     "metadata": {},
     "output_type": "execute_result"
    }
   ],
   "source": [
    "from collections import Counter\n",
    "df3 = pd.DataFrame(Counter(s1.split(sep = ' ')).most_common(25))\n",
    "df3"
   ]
  },
  {
   "cell_type": "code",
   "execution_count": 190,
   "id": "0ce55b97",
   "metadata": {},
   "outputs": [],
   "source": [
    "import matplotlib.pyplot as plt"
   ]
  },
  {
   "cell_type": "code",
   "execution_count": 209,
   "id": "576b1e20",
   "metadata": {},
   "outputs": [
    {
     "data": {
      "text/plain": [
       "array([899, 749, 555, 523, 509, 328, 257, 249, 215, 195, 194, 192, 160,\n",
       "       137, 129, 126, 123, 121, 119, 117, 108, 107, 101,  99,  97],\n",
       "      dtype=int64)"
      ]
     },
     "execution_count": 209,
     "metadata": {},
     "output_type": "execute_result"
    }
   ],
   "source": [
    "df3.set_index(df3[0], drop = True)[1]"
   ]
  },
  {
   "cell_type": "code",
   "execution_count": 211,
   "id": "33699f1d",
   "metadata": {},
   "outputs": [
    {
     "name": "stdout",
     "output_type": "stream",
     "text": [
      "Collecting emoji\n",
      "  Using cached emoji-2.5.1.tar.gz (356 kB)\n",
      "  Preparing metadata (setup.py): started\n",
      "  Preparing metadata (setup.py): finished with status 'done'\n",
      "Building wheels for collected packages: emoji\n",
      "  Building wheel for emoji (setup.py): started\n",
      "  Building wheel for emoji (setup.py): finished with status 'done'\n",
      "  Created wheel for emoji: filename=emoji-2.5.1-py2.py3-none-any.whl size=351235 sha256=39083aeb045d07d66c4f8b050c544d92e8d9882b7e5d0a8a03de21b87e81c478\n",
      "  Stored in directory: c:\\users\\zephyrus\\appdata\\local\\pip\\cache\\wheels\\eb\\20\\3c\\5fd1add8fe5078a1fccc478726dfe8558eca5bfa5ba5b28405\n",
      "Successfully built emoji\n",
      "Installing collected packages: emoji\n",
      "Successfully installed emoji-2.5.1\n"
     ]
    }
   ],
   "source": [
    "!pip install emoji\n",
    "import emoji"
   ]
  },
  {
   "cell_type": "code",
   "execution_count": 226,
   "id": "15021d60",
   "metadata": {},
   "outputs": [],
   "source": [
    "emo = list()\n",
    "for i in df['msg']:\n",
    "    for j in i.split():\n",
    "        if emoji.is_emoji(j):\n",
    "            emo.append(j)"
   ]
  },
  {
   "cell_type": "code",
   "execution_count": 233,
   "id": "107b4906",
   "metadata": {},
   "outputs": [
    {
     "data": {
      "text/html": [
       "<div>\n",
       "<style scoped>\n",
       "    .dataframe tbody tr th:only-of-type {\n",
       "        vertical-align: middle;\n",
       "    }\n",
       "\n",
       "    .dataframe tbody tr th {\n",
       "        vertical-align: top;\n",
       "    }\n",
       "\n",
       "    .dataframe thead th {\n",
       "        text-align: right;\n",
       "    }\n",
       "</style>\n",
       "<table border=\"1\" class=\"dataframe\">\n",
       "  <thead>\n",
       "    <tr style=\"text-align: right;\">\n",
       "      <th></th>\n",
       "      <th>0</th>\n",
       "      <th>1</th>\n",
       "    </tr>\n",
       "  </thead>\n",
       "  <tbody>\n",
       "    <tr>\n",
       "      <th>0</th>\n",
       "      <td>😂</td>\n",
       "      <td>328</td>\n",
       "    </tr>\n",
       "    <tr>\n",
       "      <th>1</th>\n",
       "      <td>🙂</td>\n",
       "      <td>121</td>\n",
       "    </tr>\n",
       "    <tr>\n",
       "      <th>2</th>\n",
       "      <td>🙄</td>\n",
       "      <td>75</td>\n",
       "    </tr>\n",
       "    <tr>\n",
       "      <th>3</th>\n",
       "      <td>🥲</td>\n",
       "      <td>71</td>\n",
       "    </tr>\n",
       "    <tr>\n",
       "      <th>4</th>\n",
       "      <td>😆</td>\n",
       "      <td>48</td>\n",
       "    </tr>\n",
       "    <tr>\n",
       "      <th>5</th>\n",
       "      <td>😅</td>\n",
       "      <td>44</td>\n",
       "    </tr>\n",
       "    <tr>\n",
       "      <th>6</th>\n",
       "      <td>🌝</td>\n",
       "      <td>39</td>\n",
       "    </tr>\n",
       "    <tr>\n",
       "      <th>7</th>\n",
       "      <td>🤣</td>\n",
       "      <td>25</td>\n",
       "    </tr>\n",
       "    <tr>\n",
       "      <th>8</th>\n",
       "      <td>👍</td>\n",
       "      <td>20</td>\n",
       "    </tr>\n",
       "    <tr>\n",
       "      <th>9</th>\n",
       "      <td>😒</td>\n",
       "      <td>19</td>\n",
       "    </tr>\n",
       "    <tr>\n",
       "      <th>10</th>\n",
       "      <td>😳</td>\n",
       "      <td>17</td>\n",
       "    </tr>\n",
       "    <tr>\n",
       "      <th>11</th>\n",
       "      <td>☝️</td>\n",
       "      <td>16</td>\n",
       "    </tr>\n",
       "    <tr>\n",
       "      <th>12</th>\n",
       "      <td>🥺</td>\n",
       "      <td>16</td>\n",
       "    </tr>\n",
       "    <tr>\n",
       "      <th>13</th>\n",
       "      <td>😌</td>\n",
       "      <td>14</td>\n",
       "    </tr>\n",
       "    <tr>\n",
       "      <th>14</th>\n",
       "      <td>😬</td>\n",
       "      <td>14</td>\n",
       "    </tr>\n",
       "  </tbody>\n",
       "</table>\n",
       "</div>"
      ],
      "text/plain": [
       "     0    1\n",
       "0    😂  328\n",
       "1    🙂  121\n",
       "2    🙄   75\n",
       "3    🥲   71\n",
       "4    😆   48\n",
       "5    😅   44\n",
       "6    🌝   39\n",
       "7    🤣   25\n",
       "8    👍   20\n",
       "9    😒   19\n",
       "10   😳   17\n",
       "11  ☝️   16\n",
       "12   🥺   16\n",
       "13   😌   14\n",
       "14   😬   14"
      ]
     },
     "execution_count": 233,
     "metadata": {},
     "output_type": "execute_result"
    }
   ],
   "source": [
    "list_of_emoji_used = list()\n",
    "for i in emo:\n",
    "    if i == '😶\\u200d🌫':\n",
    "        list_of_emoji_used.append('😶')\n",
    "    elif i == '🤦\\u200d♂️':\n",
    "        list_of_emoji_used.append('🤦')\n",
    "    elif i == '🙆\\u200d♂️':\n",
    "        list_of_emoji_used.append('🙆')\n",
    "    else:\n",
    "        list_of_emoji_used.append(i)\n",
    "\n",
    "        \n",
    "pd.DataFrame(Counter(list_of_emoji_used).most_common(15))"
   ]
  },
  {
   "cell_type": "code",
   "execution_count": 234,
   "id": "1ecfe8ba",
   "metadata": {},
   "outputs": [
    {
     "data": {
      "text/plain": [
       "['January',\n",
       " 'February',\n",
       " 'March',\n",
       " 'April',\n",
       " 'May',\n",
       " 'June',\n",
       " 'July',\n",
       " 'August',\n",
       " 'September',\n",
       " 'October',\n",
       " 'November',\n",
       " 'December']"
      ]
     },
     "execution_count": 234,
     "metadata": {},
     "output_type": "execute_result"
    }
   ],
   "source": [
    "months = ['January', 'February', 'March', 'April', 'May', 'June', 'July', 'August', 'September', 'October', 'November', 'December']\n",
    "months"
   ]
  },
  {
   "cell_type": "code",
   "execution_count": 242,
   "id": "8ac43253",
   "metadata": {},
   "outputs": [
    {
     "data": {
      "text/html": [
       "<div>\n",
       "<style scoped>\n",
       "    .dataframe tbody tr th:only-of-type {\n",
       "        vertical-align: middle;\n",
       "    }\n",
       "\n",
       "    .dataframe tbody tr th {\n",
       "        vertical-align: top;\n",
       "    }\n",
       "\n",
       "    .dataframe thead th {\n",
       "        text-align: right;\n",
       "    }\n",
       "</style>\n",
       "<table border=\"1\" class=\"dataframe\">\n",
       "  <thead>\n",
       "    <tr style=\"text-align: right;\">\n",
       "      <th></th>\n",
       "      <th>Month</th>\n",
       "      <th>Num of Messages</th>\n",
       "    </tr>\n",
       "  </thead>\n",
       "  <tbody>\n",
       "    <tr>\n",
       "      <th>0</th>\n",
       "      <td>January</td>\n",
       "      <td>0</td>\n",
       "    </tr>\n",
       "    <tr>\n",
       "      <th>1</th>\n",
       "      <td>February</td>\n",
       "      <td>0</td>\n",
       "    </tr>\n",
       "    <tr>\n",
       "      <th>2</th>\n",
       "      <td>March</td>\n",
       "      <td>0</td>\n",
       "    </tr>\n",
       "    <tr>\n",
       "      <th>3</th>\n",
       "      <td>April</td>\n",
       "      <td>0</td>\n",
       "    </tr>\n",
       "    <tr>\n",
       "      <th>4</th>\n",
       "      <td>May</td>\n",
       "      <td>0</td>\n",
       "    </tr>\n",
       "    <tr>\n",
       "      <th>5</th>\n",
       "      <td>June</td>\n",
       "      <td>0</td>\n",
       "    </tr>\n",
       "    <tr>\n",
       "      <th>6</th>\n",
       "      <td>July</td>\n",
       "      <td>0</td>\n",
       "    </tr>\n",
       "    <tr>\n",
       "      <th>7</th>\n",
       "      <td>August</td>\n",
       "      <td>0</td>\n",
       "    </tr>\n",
       "    <tr>\n",
       "      <th>8</th>\n",
       "      <td>September</td>\n",
       "      <td>0</td>\n",
       "    </tr>\n",
       "    <tr>\n",
       "      <th>9</th>\n",
       "      <td>October</td>\n",
       "      <td>3613</td>\n",
       "    </tr>\n",
       "    <tr>\n",
       "      <th>10</th>\n",
       "      <td>November</td>\n",
       "      <td>2332</td>\n",
       "    </tr>\n",
       "    <tr>\n",
       "      <th>11</th>\n",
       "      <td>December</td>\n",
       "      <td>974</td>\n",
       "    </tr>\n",
       "  </tbody>\n",
       "</table>\n",
       "</div>"
      ],
      "text/plain": [
       "        Month  Num of Messages\n",
       "0     January                0\n",
       "1    February                0\n",
       "2       March                0\n",
       "3       April                0\n",
       "4         May                0\n",
       "5        June                0\n",
       "6        July                0\n",
       "7      August                0\n",
       "8   September                0\n",
       "9     October             3613\n",
       "10   November             2332\n",
       "11   December              974"
      ]
     },
     "execution_count": 242,
     "metadata": {},
     "output_type": "execute_result"
    }
   ],
   "source": [
    "year = 2021\n",
    "month_wise_num_of_message = list()\n",
    "\n",
    "temp = df[df['year'] == year]\n",
    "\n",
    "for month in months :\n",
    "    month_wise_num_of_message.append(temp[temp['month'] == month].shape[0])\n",
    "ans = pd.DataFrame({'Month' : months, 'Num of Messages' : month_wise_num_of_message})\n",
    "ans"
   ]
  },
  {
   "cell_type": "code",
   "execution_count": 251,
   "id": "c2f43d25",
   "metadata": {},
   "outputs": [],
   "source": [
    "timeline = df.groupby(['year', 'month']).count()['msg'].reset_index()"
   ]
  },
  {
   "cell_type": "code",
   "execution_count": 252,
   "id": "bfe78d55",
   "metadata": {},
   "outputs": [
    {
     "data": {
      "text/plain": [
       "['December-2021',\n",
       " 'November-2021',\n",
       " 'October-2021',\n",
       " 'April-2022',\n",
       " 'December-2022',\n",
       " 'February-2022',\n",
       " 'January-2022',\n",
       " 'March-2022',\n",
       " 'November-2022',\n",
       " 'October-2022',\n",
       " 'April-2023',\n",
       " 'February-2023',\n",
       " 'January-2023',\n",
       " 'June-2023',\n",
       " 'March-2023',\n",
       " 'May-2023']"
      ]
     },
     "execution_count": 252,
     "metadata": {},
     "output_type": "execute_result"
    }
   ],
   "source": [
    "time = []\n",
    "for i in range(timeline.shape[0]):\n",
    "    time.append(timeline['month'][i] + \"-\" + str(timeline['year'][i]))\n",
    "\n",
    "time "
   ]
  }
 ],
 "metadata": {
  "kernelspec": {
   "display_name": "Python 3 (ipykernel)",
   "language": "python",
   "name": "python3"
  },
  "language_info": {
   "codemirror_mode": {
    "name": "ipython",
    "version": 3
   },
   "file_extension": ".py",
   "mimetype": "text/x-python",
   "name": "python",
   "nbconvert_exporter": "python",
   "pygments_lexer": "ipython3",
   "version": "3.10.9"
  }
 },
 "nbformat": 4,
 "nbformat_minor": 5
}
